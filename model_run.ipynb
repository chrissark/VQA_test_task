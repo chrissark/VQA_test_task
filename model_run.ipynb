{
  "nbformat": 4,
  "nbformat_minor": 0,
  "metadata": {
    "colab": {
      "name": "model_run.ipynb",
      "provenance": [],
      "collapsed_sections": []
    },
    "kernelspec": {
      "display_name": "Python 3",
      "name": "python3"
    },
    "language_info": {
      "name": "python"
    },
    "widgets": {
      "application/vnd.jupyter.widget-state+json": {
        "269abb89462a470dbc2e517da235cda1": {
          "model_module": "@jupyter-widgets/controls",
          "model_name": "HBoxModel",
          "model_module_version": "1.5.0",
          "state": {
            "_view_name": "HBoxView",
            "_dom_classes": [],
            "_model_name": "HBoxModel",
            "_view_module": "@jupyter-widgets/controls",
            "_model_module_version": "1.5.0",
            "_view_count": null,
            "_view_module_version": "1.5.0",
            "box_style": "",
            "layout": "IPY_MODEL_963d553e12444c979ad7a8a46f59fc9c",
            "_model_module": "@jupyter-widgets/controls",
            "children": [
              "IPY_MODEL_ce142164e38b46c787fa8c97c2ba7526",
              "IPY_MODEL_23639a3442dd4c2ab3e8d2dabb48ea4e",
              "IPY_MODEL_b4f7943e3bab4f6fb613cd37a8cdc3c1"
            ]
          }
        },
        "963d553e12444c979ad7a8a46f59fc9c": {
          "model_module": "@jupyter-widgets/base",
          "model_name": "LayoutModel",
          "model_module_version": "1.2.0",
          "state": {
            "_view_name": "LayoutView",
            "grid_template_rows": null,
            "right": null,
            "justify_content": null,
            "_view_module": "@jupyter-widgets/base",
            "overflow": null,
            "_model_module_version": "1.2.0",
            "_view_count": null,
            "flex_flow": null,
            "width": null,
            "min_width": null,
            "border": null,
            "align_items": null,
            "bottom": null,
            "_model_module": "@jupyter-widgets/base",
            "top": null,
            "grid_column": null,
            "overflow_y": null,
            "overflow_x": null,
            "grid_auto_flow": null,
            "grid_area": null,
            "grid_template_columns": null,
            "flex": null,
            "_model_name": "LayoutModel",
            "justify_items": null,
            "grid_row": null,
            "max_height": null,
            "align_content": null,
            "visibility": null,
            "align_self": null,
            "height": null,
            "min_height": null,
            "padding": null,
            "grid_auto_rows": null,
            "grid_gap": null,
            "max_width": null,
            "order": null,
            "_view_module_version": "1.2.0",
            "grid_template_areas": null,
            "object_position": null,
            "object_fit": null,
            "grid_auto_columns": null,
            "margin": null,
            "display": null,
            "left": null
          }
        },
        "ce142164e38b46c787fa8c97c2ba7526": {
          "model_module": "@jupyter-widgets/controls",
          "model_name": "HTMLModel",
          "model_module_version": "1.5.0",
          "state": {
            "_view_name": "HTMLView",
            "style": "IPY_MODEL_ce60128824d9482fbae8fc5dfe24811f",
            "_dom_classes": [],
            "description": "",
            "_model_name": "HTMLModel",
            "placeholder": "​",
            "_view_module": "@jupyter-widgets/controls",
            "_model_module_version": "1.5.0",
            "value": "100%",
            "_view_count": null,
            "_view_module_version": "1.5.0",
            "description_tooltip": null,
            "_model_module": "@jupyter-widgets/controls",
            "layout": "IPY_MODEL_05577294bb33409981b708c5c4fbe6e5"
          }
        },
        "23639a3442dd4c2ab3e8d2dabb48ea4e": {
          "model_module": "@jupyter-widgets/controls",
          "model_name": "FloatProgressModel",
          "model_module_version": "1.5.0",
          "state": {
            "_view_name": "ProgressView",
            "style": "IPY_MODEL_3f3cc63733724ad1910d24995473622b",
            "_dom_classes": [],
            "description": "",
            "_model_name": "FloatProgressModel",
            "bar_style": "success",
            "max": 52147035,
            "_view_module": "@jupyter-widgets/controls",
            "_model_module_version": "1.5.0",
            "value": 52147035,
            "_view_count": null,
            "_view_module_version": "1.5.0",
            "orientation": "horizontal",
            "min": 0,
            "description_tooltip": null,
            "_model_module": "@jupyter-widgets/controls",
            "layout": "IPY_MODEL_86dbc5b6991144209eaefcaa7b9ba9e2"
          }
        },
        "b4f7943e3bab4f6fb613cd37a8cdc3c1": {
          "model_module": "@jupyter-widgets/controls",
          "model_name": "HTMLModel",
          "model_module_version": "1.5.0",
          "state": {
            "_view_name": "HTMLView",
            "style": "IPY_MODEL_0353dc23b155459ea808a69c6ca18153",
            "_dom_classes": [],
            "description": "",
            "_model_name": "HTMLModel",
            "placeholder": "​",
            "_view_module": "@jupyter-widgets/controls",
            "_model_module_version": "1.5.0",
            "value": " 49.7M/49.7M [00:00&lt;00:00, 96.1MB/s]",
            "_view_count": null,
            "_view_module_version": "1.5.0",
            "description_tooltip": null,
            "_model_module": "@jupyter-widgets/controls",
            "layout": "IPY_MODEL_c5702d4252cd4df0bb19dbafafe72cfe"
          }
        },
        "ce60128824d9482fbae8fc5dfe24811f": {
          "model_module": "@jupyter-widgets/controls",
          "model_name": "DescriptionStyleModel",
          "model_module_version": "1.5.0",
          "state": {
            "_view_name": "StyleView",
            "_model_name": "DescriptionStyleModel",
            "description_width": "",
            "_view_module": "@jupyter-widgets/base",
            "_model_module_version": "1.5.0",
            "_view_count": null,
            "_view_module_version": "1.2.0",
            "_model_module": "@jupyter-widgets/controls"
          }
        },
        "05577294bb33409981b708c5c4fbe6e5": {
          "model_module": "@jupyter-widgets/base",
          "model_name": "LayoutModel",
          "model_module_version": "1.2.0",
          "state": {
            "_view_name": "LayoutView",
            "grid_template_rows": null,
            "right": null,
            "justify_content": null,
            "_view_module": "@jupyter-widgets/base",
            "overflow": null,
            "_model_module_version": "1.2.0",
            "_view_count": null,
            "flex_flow": null,
            "width": null,
            "min_width": null,
            "border": null,
            "align_items": null,
            "bottom": null,
            "_model_module": "@jupyter-widgets/base",
            "top": null,
            "grid_column": null,
            "overflow_y": null,
            "overflow_x": null,
            "grid_auto_flow": null,
            "grid_area": null,
            "grid_template_columns": null,
            "flex": null,
            "_model_name": "LayoutModel",
            "justify_items": null,
            "grid_row": null,
            "max_height": null,
            "align_content": null,
            "visibility": null,
            "align_self": null,
            "height": null,
            "min_height": null,
            "padding": null,
            "grid_auto_rows": null,
            "grid_gap": null,
            "max_width": null,
            "order": null,
            "_view_module_version": "1.2.0",
            "grid_template_areas": null,
            "object_position": null,
            "object_fit": null,
            "grid_auto_columns": null,
            "margin": null,
            "display": null,
            "left": null
          }
        },
        "3f3cc63733724ad1910d24995473622b": {
          "model_module": "@jupyter-widgets/controls",
          "model_name": "ProgressStyleModel",
          "model_module_version": "1.5.0",
          "state": {
            "_view_name": "StyleView",
            "_model_name": "ProgressStyleModel",
            "description_width": "",
            "_view_module": "@jupyter-widgets/base",
            "_model_module_version": "1.5.0",
            "_view_count": null,
            "_view_module_version": "1.2.0",
            "bar_color": null,
            "_model_module": "@jupyter-widgets/controls"
          }
        },
        "86dbc5b6991144209eaefcaa7b9ba9e2": {
          "model_module": "@jupyter-widgets/base",
          "model_name": "LayoutModel",
          "model_module_version": "1.2.0",
          "state": {
            "_view_name": "LayoutView",
            "grid_template_rows": null,
            "right": null,
            "justify_content": null,
            "_view_module": "@jupyter-widgets/base",
            "overflow": null,
            "_model_module_version": "1.2.0",
            "_view_count": null,
            "flex_flow": null,
            "width": null,
            "min_width": null,
            "border": null,
            "align_items": null,
            "bottom": null,
            "_model_module": "@jupyter-widgets/base",
            "top": null,
            "grid_column": null,
            "overflow_y": null,
            "overflow_x": null,
            "grid_auto_flow": null,
            "grid_area": null,
            "grid_template_columns": null,
            "flex": null,
            "_model_name": "LayoutModel",
            "justify_items": null,
            "grid_row": null,
            "max_height": null,
            "align_content": null,
            "visibility": null,
            "align_self": null,
            "height": null,
            "min_height": null,
            "padding": null,
            "grid_auto_rows": null,
            "grid_gap": null,
            "max_width": null,
            "order": null,
            "_view_module_version": "1.2.0",
            "grid_template_areas": null,
            "object_position": null,
            "object_fit": null,
            "grid_auto_columns": null,
            "margin": null,
            "display": null,
            "left": null
          }
        },
        "0353dc23b155459ea808a69c6ca18153": {
          "model_module": "@jupyter-widgets/controls",
          "model_name": "DescriptionStyleModel",
          "model_module_version": "1.5.0",
          "state": {
            "_view_name": "StyleView",
            "_model_name": "DescriptionStyleModel",
            "description_width": "",
            "_view_module": "@jupyter-widgets/base",
            "_model_module_version": "1.5.0",
            "_view_count": null,
            "_view_module_version": "1.2.0",
            "_model_module": "@jupyter-widgets/controls"
          }
        },
        "c5702d4252cd4df0bb19dbafafe72cfe": {
          "model_module": "@jupyter-widgets/base",
          "model_name": "LayoutModel",
          "model_module_version": "1.2.0",
          "state": {
            "_view_name": "LayoutView",
            "grid_template_rows": null,
            "right": null,
            "justify_content": null,
            "_view_module": "@jupyter-widgets/base",
            "overflow": null,
            "_model_module_version": "1.2.0",
            "_view_count": null,
            "flex_flow": null,
            "width": null,
            "min_width": null,
            "border": null,
            "align_items": null,
            "bottom": null,
            "_model_module": "@jupyter-widgets/base",
            "top": null,
            "grid_column": null,
            "overflow_y": null,
            "overflow_x": null,
            "grid_auto_flow": null,
            "grid_area": null,
            "grid_template_columns": null,
            "flex": null,
            "_model_name": "LayoutModel",
            "justify_items": null,
            "grid_row": null,
            "max_height": null,
            "align_content": null,
            "visibility": null,
            "align_self": null,
            "height": null,
            "min_height": null,
            "padding": null,
            "grid_auto_rows": null,
            "grid_gap": null,
            "max_width": null,
            "order": null,
            "_view_module_version": "1.2.0",
            "grid_template_areas": null,
            "object_position": null,
            "object_fit": null,
            "grid_auto_columns": null,
            "margin": null,
            "display": null,
            "left": null
          }
        }
      }
    },
    "accelerator": "GPU"
  },
  "cells": [
    {
      "cell_type": "code",
      "metadata": {
        "colab": {
          "base_uri": "https://localhost:8080/"
        },
        "id": "d1nDnNOtj1ju",
        "outputId": "a42ad507-fd16-4af1-835c-4e0dbd669cc9"
      },
      "source": [
        "from google.colab import drive\n",
        "drive.mount('/content/gdrive')"
      ],
      "execution_count": 1,
      "outputs": [
        {
          "output_type": "stream",
          "name": "stdout",
          "text": [
            "Mounted at /content/gdrive\n"
          ]
        }
      ]
    },
    {
      "cell_type": "code",
      "metadata": {
        "colab": {
          "base_uri": "https://localhost:8080/"
        },
        "id": "b9AQgJPdkWbY",
        "outputId": "62a5d3f3-92e5-4a96-e2d6-568fc6f7decf"
      },
      "source": [
        "%cd gdrive/MyDrive/VQA_torch\n",
        "%ls"
      ],
      "execution_count": 2,
      "outputs": [
        {
          "output_type": "stream",
          "name": "stdout",
          "text": [
            "/content/gdrive/MyDrive/VQA_torch\n",
            "\u001b[0m\u001b[01;34mAnnotations\u001b[0m/       \u001b[01;34mdata_clevr\u001b[0m/         Questions_Test_abstract_v002.zip\n",
            "\u001b[01;34mchk_simple\u001b[0m/        \u001b[01;34mexternal\u001b[0m/           README.md\n",
            "\u001b[01;34mchk_simple_clevr\u001b[0m/  \u001b[01;34mImages\u001b[0m/             \u001b[01;34mruns\u001b[0m/\n",
            "\u001b[01;34mcoatt\u001b[0m/             model_best.pth.tar  scene_img_abstract_v002_test2015.zip\n",
            "\u001b[01;34mdata\u001b[0m/              \u001b[01;34mQuestions\u001b[0m/          \u001b[01;34mtb_\u001b[0m/\n"
          ]
        }
      ]
    },
    {
      "cell_type": "code",
      "metadata": {
        "colab": {
          "base_uri": "https://localhost:8080/"
        },
        "id": "bXSwkbTXkhFi",
        "outputId": "1cdc6272-537c-4a50-a1d6-432b77c00ba3"
      },
      "source": [
        "!pip install tensorboardX"
      ],
      "execution_count": 3,
      "outputs": [
        {
          "output_type": "stream",
          "name": "stdout",
          "text": [
            "Collecting tensorboardX\n",
            "  Downloading tensorboardX-2.4-py2.py3-none-any.whl (124 kB)\n",
            "\u001b[?25l\r\u001b[K     |██▋                             | 10 kB 22.8 MB/s eta 0:00:01\r\u001b[K     |█████▎                          | 20 kB 25.9 MB/s eta 0:00:01\r\u001b[K     |████████                        | 30 kB 13.4 MB/s eta 0:00:01\r\u001b[K     |██████████▌                     | 40 kB 10.3 MB/s eta 0:00:01\r\u001b[K     |█████████████▏                  | 51 kB 5.7 MB/s eta 0:00:01\r\u001b[K     |███████████████▉                | 61 kB 6.1 MB/s eta 0:00:01\r\u001b[K     |██████████████████▍             | 71 kB 5.5 MB/s eta 0:00:01\r\u001b[K     |█████████████████████           | 81 kB 6.2 MB/s eta 0:00:01\r\u001b[K     |███████████████████████▊        | 92 kB 6.3 MB/s eta 0:00:01\r\u001b[K     |██████████████████████████▎     | 102 kB 5.3 MB/s eta 0:00:01\r\u001b[K     |█████████████████████████████   | 112 kB 5.3 MB/s eta 0:00:01\r\u001b[K     |███████████████████████████████▋| 122 kB 5.3 MB/s eta 0:00:01\r\u001b[K     |████████████████████████████████| 124 kB 5.3 MB/s \n",
            "\u001b[?25hRequirement already satisfied: protobuf>=3.8.0 in /usr/local/lib/python3.7/dist-packages (from tensorboardX) (3.17.3)\n",
            "Requirement already satisfied: numpy in /usr/local/lib/python3.7/dist-packages (from tensorboardX) (1.19.5)\n",
            "Requirement already satisfied: six>=1.9 in /usr/local/lib/python3.7/dist-packages (from protobuf>=3.8.0->tensorboardX) (1.15.0)\n",
            "Installing collected packages: tensorboardX\n",
            "Successfully installed tensorboardX-2.4\n"
          ]
        }
      ]
    },
    {
      "cell_type": "code",
      "metadata": {
        "id": "_SodHKwFkCSs"
      },
      "source": [
        "import numpy as np\n",
        "from six.moves import cPickle as pickle\n",
        "from torch.utils.data import DataLoader\n",
        "\n",
        "from coatt.simple_baseline_net import SimpleBaselineNet\n",
        "from coatt.experiment_runner_base import ExperimentRunnerBase\n",
        "from coatt.vqa_dataset import VqaDataset\n",
        "\n",
        "import os\n",
        "import operator\n",
        "import numpy as np\n",
        "\n",
        "from six.moves import cPickle as pickle\n",
        "from collections import defaultdict\n",
        "from external.vqa.vqa import VQA"
      ],
      "execution_count": 4,
      "outputs": []
    },
    {
      "cell_type": "code",
      "metadata": {
        "id": "f4KX80HLkrUK"
      },
      "source": [
        "with open('./data/q2i.pkl', 'rb') as f:\n",
        "    q2i = pickle.load(f)\n",
        "with open('./data/a2i.pkl', 'rb') as f:\n",
        "    a2i = pickle.load(f)\n",
        "with open('./data/i2a.pkl', 'rb') as f:\n",
        "    i2a = pickle.load(f)\n",
        "with open('./data/a2i_count.pkl', 'rb') as f:\n",
        "    a2i_count = pickle.load(f)"
      ],
      "execution_count": 5,
      "outputs": []
    },
    {
      "cell_type": "code",
      "metadata": {
        "colab": {
          "base_uri": "https://localhost:8080/",
          "height": 68,
          "referenced_widgets": [
            "269abb89462a470dbc2e517da235cda1",
            "963d553e12444c979ad7a8a46f59fc9c",
            "ce142164e38b46c787fa8c97c2ba7526",
            "23639a3442dd4c2ab3e8d2dabb48ea4e",
            "b4f7943e3bab4f6fb613cd37a8cdc3c1",
            "ce60128824d9482fbae8fc5dfe24811f",
            "05577294bb33409981b708c5c4fbe6e5",
            "3f3cc63733724ad1910d24995473622b",
            "86dbc5b6991144209eaefcaa7b9ba9e2",
            "0353dc23b155459ea808a69c6ca18153",
            "c5702d4252cd4df0bb19dbafafe72cfe"
          ]
        },
        "id": "zb0NPEDwl_t9",
        "outputId": "8253fe04-77e7-424d-8da8-9af72257bcc5"
      },
      "source": [
        "model = SimpleBaselineNet(len(q2i), 1000).float()"
      ],
      "execution_count": 6,
      "outputs": [
        {
          "output_type": "stream",
          "name": "stderr",
          "text": [
            "Downloading: \"https://download.pytorch.org/models/googlenet-1378be20.pth\" to /root/.cache/torch/hub/checkpoints/googlenet-1378be20.pth\n"
          ]
        },
        {
          "output_type": "display_data",
          "data": {
            "application/vnd.jupyter.widget-view+json": {
              "model_id": "269abb89462a470dbc2e517da235cda1",
              "version_minor": 0,
              "version_major": 2
            },
            "text/plain": [
              "  0%|          | 0.00/49.7M [00:00<?, ?B/s]"
            ]
          },
          "metadata": {}
        }
      ]
    },
    {
      "cell_type": "code",
      "metadata": {
        "colab": {
          "base_uri": "https://localhost:8080/"
        },
        "id": "GtjlbsJUoQYQ",
        "outputId": "94dd5f9f-e792-4722-eeed-b18c40d88b2e"
      },
      "source": [
        "import torch\n",
        "\n",
        "model.load_state_dict(torch.load('./model_best.pth.tar')['state_dict'])\n",
        "model.eval()"
      ],
      "execution_count": 7,
      "outputs": [
        {
          "output_type": "execute_result",
          "data": {
            "text/plain": [
              "SimpleBaselineNet(\n",
              "  (gnet): GoogLeNet(\n",
              "    (conv1): BasicConv2d(\n",
              "      (conv): Conv2d(3, 64, kernel_size=(7, 7), stride=(2, 2), padding=(3, 3), bias=False)\n",
              "      (bn): BatchNorm2d(64, eps=0.001, momentum=0.1, affine=True, track_running_stats=True)\n",
              "    )\n",
              "    (maxpool1): MaxPool2d(kernel_size=3, stride=2, padding=0, dilation=1, ceil_mode=True)\n",
              "    (conv2): BasicConv2d(\n",
              "      (conv): Conv2d(64, 64, kernel_size=(1, 1), stride=(1, 1), bias=False)\n",
              "      (bn): BatchNorm2d(64, eps=0.001, momentum=0.1, affine=True, track_running_stats=True)\n",
              "    )\n",
              "    (conv3): BasicConv2d(\n",
              "      (conv): Conv2d(64, 192, kernel_size=(3, 3), stride=(1, 1), padding=(1, 1), bias=False)\n",
              "      (bn): BatchNorm2d(192, eps=0.001, momentum=0.1, affine=True, track_running_stats=True)\n",
              "    )\n",
              "    (maxpool2): MaxPool2d(kernel_size=3, stride=2, padding=0, dilation=1, ceil_mode=True)\n",
              "    (inception3a): Inception(\n",
              "      (branch1): BasicConv2d(\n",
              "        (conv): Conv2d(192, 64, kernel_size=(1, 1), stride=(1, 1), bias=False)\n",
              "        (bn): BatchNorm2d(64, eps=0.001, momentum=0.1, affine=True, track_running_stats=True)\n",
              "      )\n",
              "      (branch2): Sequential(\n",
              "        (0): BasicConv2d(\n",
              "          (conv): Conv2d(192, 96, kernel_size=(1, 1), stride=(1, 1), bias=False)\n",
              "          (bn): BatchNorm2d(96, eps=0.001, momentum=0.1, affine=True, track_running_stats=True)\n",
              "        )\n",
              "        (1): BasicConv2d(\n",
              "          (conv): Conv2d(96, 128, kernel_size=(3, 3), stride=(1, 1), padding=(1, 1), bias=False)\n",
              "          (bn): BatchNorm2d(128, eps=0.001, momentum=0.1, affine=True, track_running_stats=True)\n",
              "        )\n",
              "      )\n",
              "      (branch3): Sequential(\n",
              "        (0): BasicConv2d(\n",
              "          (conv): Conv2d(192, 16, kernel_size=(1, 1), stride=(1, 1), bias=False)\n",
              "          (bn): BatchNorm2d(16, eps=0.001, momentum=0.1, affine=True, track_running_stats=True)\n",
              "        )\n",
              "        (1): BasicConv2d(\n",
              "          (conv): Conv2d(16, 32, kernel_size=(3, 3), stride=(1, 1), padding=(1, 1), bias=False)\n",
              "          (bn): BatchNorm2d(32, eps=0.001, momentum=0.1, affine=True, track_running_stats=True)\n",
              "        )\n",
              "      )\n",
              "      (branch4): Sequential(\n",
              "        (0): MaxPool2d(kernel_size=3, stride=1, padding=1, dilation=1, ceil_mode=True)\n",
              "        (1): BasicConv2d(\n",
              "          (conv): Conv2d(192, 32, kernel_size=(1, 1), stride=(1, 1), bias=False)\n",
              "          (bn): BatchNorm2d(32, eps=0.001, momentum=0.1, affine=True, track_running_stats=True)\n",
              "        )\n",
              "      )\n",
              "    )\n",
              "    (inception3b): Inception(\n",
              "      (branch1): BasicConv2d(\n",
              "        (conv): Conv2d(256, 128, kernel_size=(1, 1), stride=(1, 1), bias=False)\n",
              "        (bn): BatchNorm2d(128, eps=0.001, momentum=0.1, affine=True, track_running_stats=True)\n",
              "      )\n",
              "      (branch2): Sequential(\n",
              "        (0): BasicConv2d(\n",
              "          (conv): Conv2d(256, 128, kernel_size=(1, 1), stride=(1, 1), bias=False)\n",
              "          (bn): BatchNorm2d(128, eps=0.001, momentum=0.1, affine=True, track_running_stats=True)\n",
              "        )\n",
              "        (1): BasicConv2d(\n",
              "          (conv): Conv2d(128, 192, kernel_size=(3, 3), stride=(1, 1), padding=(1, 1), bias=False)\n",
              "          (bn): BatchNorm2d(192, eps=0.001, momentum=0.1, affine=True, track_running_stats=True)\n",
              "        )\n",
              "      )\n",
              "      (branch3): Sequential(\n",
              "        (0): BasicConv2d(\n",
              "          (conv): Conv2d(256, 32, kernel_size=(1, 1), stride=(1, 1), bias=False)\n",
              "          (bn): BatchNorm2d(32, eps=0.001, momentum=0.1, affine=True, track_running_stats=True)\n",
              "        )\n",
              "        (1): BasicConv2d(\n",
              "          (conv): Conv2d(32, 96, kernel_size=(3, 3), stride=(1, 1), padding=(1, 1), bias=False)\n",
              "          (bn): BatchNorm2d(96, eps=0.001, momentum=0.1, affine=True, track_running_stats=True)\n",
              "        )\n",
              "      )\n",
              "      (branch4): Sequential(\n",
              "        (0): MaxPool2d(kernel_size=3, stride=1, padding=1, dilation=1, ceil_mode=True)\n",
              "        (1): BasicConv2d(\n",
              "          (conv): Conv2d(256, 64, kernel_size=(1, 1), stride=(1, 1), bias=False)\n",
              "          (bn): BatchNorm2d(64, eps=0.001, momentum=0.1, affine=True, track_running_stats=True)\n",
              "        )\n",
              "      )\n",
              "    )\n",
              "    (maxpool3): MaxPool2d(kernel_size=3, stride=2, padding=0, dilation=1, ceil_mode=True)\n",
              "    (inception4a): Inception(\n",
              "      (branch1): BasicConv2d(\n",
              "        (conv): Conv2d(480, 192, kernel_size=(1, 1), stride=(1, 1), bias=False)\n",
              "        (bn): BatchNorm2d(192, eps=0.001, momentum=0.1, affine=True, track_running_stats=True)\n",
              "      )\n",
              "      (branch2): Sequential(\n",
              "        (0): BasicConv2d(\n",
              "          (conv): Conv2d(480, 96, kernel_size=(1, 1), stride=(1, 1), bias=False)\n",
              "          (bn): BatchNorm2d(96, eps=0.001, momentum=0.1, affine=True, track_running_stats=True)\n",
              "        )\n",
              "        (1): BasicConv2d(\n",
              "          (conv): Conv2d(96, 208, kernel_size=(3, 3), stride=(1, 1), padding=(1, 1), bias=False)\n",
              "          (bn): BatchNorm2d(208, eps=0.001, momentum=0.1, affine=True, track_running_stats=True)\n",
              "        )\n",
              "      )\n",
              "      (branch3): Sequential(\n",
              "        (0): BasicConv2d(\n",
              "          (conv): Conv2d(480, 16, kernel_size=(1, 1), stride=(1, 1), bias=False)\n",
              "          (bn): BatchNorm2d(16, eps=0.001, momentum=0.1, affine=True, track_running_stats=True)\n",
              "        )\n",
              "        (1): BasicConv2d(\n",
              "          (conv): Conv2d(16, 48, kernel_size=(3, 3), stride=(1, 1), padding=(1, 1), bias=False)\n",
              "          (bn): BatchNorm2d(48, eps=0.001, momentum=0.1, affine=True, track_running_stats=True)\n",
              "        )\n",
              "      )\n",
              "      (branch4): Sequential(\n",
              "        (0): MaxPool2d(kernel_size=3, stride=1, padding=1, dilation=1, ceil_mode=True)\n",
              "        (1): BasicConv2d(\n",
              "          (conv): Conv2d(480, 64, kernel_size=(1, 1), stride=(1, 1), bias=False)\n",
              "          (bn): BatchNorm2d(64, eps=0.001, momentum=0.1, affine=True, track_running_stats=True)\n",
              "        )\n",
              "      )\n",
              "    )\n",
              "    (inception4b): Inception(\n",
              "      (branch1): BasicConv2d(\n",
              "        (conv): Conv2d(512, 160, kernel_size=(1, 1), stride=(1, 1), bias=False)\n",
              "        (bn): BatchNorm2d(160, eps=0.001, momentum=0.1, affine=True, track_running_stats=True)\n",
              "      )\n",
              "      (branch2): Sequential(\n",
              "        (0): BasicConv2d(\n",
              "          (conv): Conv2d(512, 112, kernel_size=(1, 1), stride=(1, 1), bias=False)\n",
              "          (bn): BatchNorm2d(112, eps=0.001, momentum=0.1, affine=True, track_running_stats=True)\n",
              "        )\n",
              "        (1): BasicConv2d(\n",
              "          (conv): Conv2d(112, 224, kernel_size=(3, 3), stride=(1, 1), padding=(1, 1), bias=False)\n",
              "          (bn): BatchNorm2d(224, eps=0.001, momentum=0.1, affine=True, track_running_stats=True)\n",
              "        )\n",
              "      )\n",
              "      (branch3): Sequential(\n",
              "        (0): BasicConv2d(\n",
              "          (conv): Conv2d(512, 24, kernel_size=(1, 1), stride=(1, 1), bias=False)\n",
              "          (bn): BatchNorm2d(24, eps=0.001, momentum=0.1, affine=True, track_running_stats=True)\n",
              "        )\n",
              "        (1): BasicConv2d(\n",
              "          (conv): Conv2d(24, 64, kernel_size=(3, 3), stride=(1, 1), padding=(1, 1), bias=False)\n",
              "          (bn): BatchNorm2d(64, eps=0.001, momentum=0.1, affine=True, track_running_stats=True)\n",
              "        )\n",
              "      )\n",
              "      (branch4): Sequential(\n",
              "        (0): MaxPool2d(kernel_size=3, stride=1, padding=1, dilation=1, ceil_mode=True)\n",
              "        (1): BasicConv2d(\n",
              "          (conv): Conv2d(512, 64, kernel_size=(1, 1), stride=(1, 1), bias=False)\n",
              "          (bn): BatchNorm2d(64, eps=0.001, momentum=0.1, affine=True, track_running_stats=True)\n",
              "        )\n",
              "      )\n",
              "    )\n",
              "    (inception4c): Inception(\n",
              "      (branch1): BasicConv2d(\n",
              "        (conv): Conv2d(512, 128, kernel_size=(1, 1), stride=(1, 1), bias=False)\n",
              "        (bn): BatchNorm2d(128, eps=0.001, momentum=0.1, affine=True, track_running_stats=True)\n",
              "      )\n",
              "      (branch2): Sequential(\n",
              "        (0): BasicConv2d(\n",
              "          (conv): Conv2d(512, 128, kernel_size=(1, 1), stride=(1, 1), bias=False)\n",
              "          (bn): BatchNorm2d(128, eps=0.001, momentum=0.1, affine=True, track_running_stats=True)\n",
              "        )\n",
              "        (1): BasicConv2d(\n",
              "          (conv): Conv2d(128, 256, kernel_size=(3, 3), stride=(1, 1), padding=(1, 1), bias=False)\n",
              "          (bn): BatchNorm2d(256, eps=0.001, momentum=0.1, affine=True, track_running_stats=True)\n",
              "        )\n",
              "      )\n",
              "      (branch3): Sequential(\n",
              "        (0): BasicConv2d(\n",
              "          (conv): Conv2d(512, 24, kernel_size=(1, 1), stride=(1, 1), bias=False)\n",
              "          (bn): BatchNorm2d(24, eps=0.001, momentum=0.1, affine=True, track_running_stats=True)\n",
              "        )\n",
              "        (1): BasicConv2d(\n",
              "          (conv): Conv2d(24, 64, kernel_size=(3, 3), stride=(1, 1), padding=(1, 1), bias=False)\n",
              "          (bn): BatchNorm2d(64, eps=0.001, momentum=0.1, affine=True, track_running_stats=True)\n",
              "        )\n",
              "      )\n",
              "      (branch4): Sequential(\n",
              "        (0): MaxPool2d(kernel_size=3, stride=1, padding=1, dilation=1, ceil_mode=True)\n",
              "        (1): BasicConv2d(\n",
              "          (conv): Conv2d(512, 64, kernel_size=(1, 1), stride=(1, 1), bias=False)\n",
              "          (bn): BatchNorm2d(64, eps=0.001, momentum=0.1, affine=True, track_running_stats=True)\n",
              "        )\n",
              "      )\n",
              "    )\n",
              "    (inception4d): Inception(\n",
              "      (branch1): BasicConv2d(\n",
              "        (conv): Conv2d(512, 112, kernel_size=(1, 1), stride=(1, 1), bias=False)\n",
              "        (bn): BatchNorm2d(112, eps=0.001, momentum=0.1, affine=True, track_running_stats=True)\n",
              "      )\n",
              "      (branch2): Sequential(\n",
              "        (0): BasicConv2d(\n",
              "          (conv): Conv2d(512, 144, kernel_size=(1, 1), stride=(1, 1), bias=False)\n",
              "          (bn): BatchNorm2d(144, eps=0.001, momentum=0.1, affine=True, track_running_stats=True)\n",
              "        )\n",
              "        (1): BasicConv2d(\n",
              "          (conv): Conv2d(144, 288, kernel_size=(3, 3), stride=(1, 1), padding=(1, 1), bias=False)\n",
              "          (bn): BatchNorm2d(288, eps=0.001, momentum=0.1, affine=True, track_running_stats=True)\n",
              "        )\n",
              "      )\n",
              "      (branch3): Sequential(\n",
              "        (0): BasicConv2d(\n",
              "          (conv): Conv2d(512, 32, kernel_size=(1, 1), stride=(1, 1), bias=False)\n",
              "          (bn): BatchNorm2d(32, eps=0.001, momentum=0.1, affine=True, track_running_stats=True)\n",
              "        )\n",
              "        (1): BasicConv2d(\n",
              "          (conv): Conv2d(32, 64, kernel_size=(3, 3), stride=(1, 1), padding=(1, 1), bias=False)\n",
              "          (bn): BatchNorm2d(64, eps=0.001, momentum=0.1, affine=True, track_running_stats=True)\n",
              "        )\n",
              "      )\n",
              "      (branch4): Sequential(\n",
              "        (0): MaxPool2d(kernel_size=3, stride=1, padding=1, dilation=1, ceil_mode=True)\n",
              "        (1): BasicConv2d(\n",
              "          (conv): Conv2d(512, 64, kernel_size=(1, 1), stride=(1, 1), bias=False)\n",
              "          (bn): BatchNorm2d(64, eps=0.001, momentum=0.1, affine=True, track_running_stats=True)\n",
              "        )\n",
              "      )\n",
              "    )\n",
              "    (inception4e): Inception(\n",
              "      (branch1): BasicConv2d(\n",
              "        (conv): Conv2d(528, 256, kernel_size=(1, 1), stride=(1, 1), bias=False)\n",
              "        (bn): BatchNorm2d(256, eps=0.001, momentum=0.1, affine=True, track_running_stats=True)\n",
              "      )\n",
              "      (branch2): Sequential(\n",
              "        (0): BasicConv2d(\n",
              "          (conv): Conv2d(528, 160, kernel_size=(1, 1), stride=(1, 1), bias=False)\n",
              "          (bn): BatchNorm2d(160, eps=0.001, momentum=0.1, affine=True, track_running_stats=True)\n",
              "        )\n",
              "        (1): BasicConv2d(\n",
              "          (conv): Conv2d(160, 320, kernel_size=(3, 3), stride=(1, 1), padding=(1, 1), bias=False)\n",
              "          (bn): BatchNorm2d(320, eps=0.001, momentum=0.1, affine=True, track_running_stats=True)\n",
              "        )\n",
              "      )\n",
              "      (branch3): Sequential(\n",
              "        (0): BasicConv2d(\n",
              "          (conv): Conv2d(528, 32, kernel_size=(1, 1), stride=(1, 1), bias=False)\n",
              "          (bn): BatchNorm2d(32, eps=0.001, momentum=0.1, affine=True, track_running_stats=True)\n",
              "        )\n",
              "        (1): BasicConv2d(\n",
              "          (conv): Conv2d(32, 128, kernel_size=(3, 3), stride=(1, 1), padding=(1, 1), bias=False)\n",
              "          (bn): BatchNorm2d(128, eps=0.001, momentum=0.1, affine=True, track_running_stats=True)\n",
              "        )\n",
              "      )\n",
              "      (branch4): Sequential(\n",
              "        (0): MaxPool2d(kernel_size=3, stride=1, padding=1, dilation=1, ceil_mode=True)\n",
              "        (1): BasicConv2d(\n",
              "          (conv): Conv2d(528, 128, kernel_size=(1, 1), stride=(1, 1), bias=False)\n",
              "          (bn): BatchNorm2d(128, eps=0.001, momentum=0.1, affine=True, track_running_stats=True)\n",
              "        )\n",
              "      )\n",
              "    )\n",
              "    (maxpool4): MaxPool2d(kernel_size=2, stride=2, padding=0, dilation=1, ceil_mode=True)\n",
              "    (inception5a): Inception(\n",
              "      (branch1): BasicConv2d(\n",
              "        (conv): Conv2d(832, 256, kernel_size=(1, 1), stride=(1, 1), bias=False)\n",
              "        (bn): BatchNorm2d(256, eps=0.001, momentum=0.1, affine=True, track_running_stats=True)\n",
              "      )\n",
              "      (branch2): Sequential(\n",
              "        (0): BasicConv2d(\n",
              "          (conv): Conv2d(832, 160, kernel_size=(1, 1), stride=(1, 1), bias=False)\n",
              "          (bn): BatchNorm2d(160, eps=0.001, momentum=0.1, affine=True, track_running_stats=True)\n",
              "        )\n",
              "        (1): BasicConv2d(\n",
              "          (conv): Conv2d(160, 320, kernel_size=(3, 3), stride=(1, 1), padding=(1, 1), bias=False)\n",
              "          (bn): BatchNorm2d(320, eps=0.001, momentum=0.1, affine=True, track_running_stats=True)\n",
              "        )\n",
              "      )\n",
              "      (branch3): Sequential(\n",
              "        (0): BasicConv2d(\n",
              "          (conv): Conv2d(832, 32, kernel_size=(1, 1), stride=(1, 1), bias=False)\n",
              "          (bn): BatchNorm2d(32, eps=0.001, momentum=0.1, affine=True, track_running_stats=True)\n",
              "        )\n",
              "        (1): BasicConv2d(\n",
              "          (conv): Conv2d(32, 128, kernel_size=(3, 3), stride=(1, 1), padding=(1, 1), bias=False)\n",
              "          (bn): BatchNorm2d(128, eps=0.001, momentum=0.1, affine=True, track_running_stats=True)\n",
              "        )\n",
              "      )\n",
              "      (branch4): Sequential(\n",
              "        (0): MaxPool2d(kernel_size=3, stride=1, padding=1, dilation=1, ceil_mode=True)\n",
              "        (1): BasicConv2d(\n",
              "          (conv): Conv2d(832, 128, kernel_size=(1, 1), stride=(1, 1), bias=False)\n",
              "          (bn): BatchNorm2d(128, eps=0.001, momentum=0.1, affine=True, track_running_stats=True)\n",
              "        )\n",
              "      )\n",
              "    )\n",
              "    (inception5b): Inception(\n",
              "      (branch1): BasicConv2d(\n",
              "        (conv): Conv2d(832, 384, kernel_size=(1, 1), stride=(1, 1), bias=False)\n",
              "        (bn): BatchNorm2d(384, eps=0.001, momentum=0.1, affine=True, track_running_stats=True)\n",
              "      )\n",
              "      (branch2): Sequential(\n",
              "        (0): BasicConv2d(\n",
              "          (conv): Conv2d(832, 192, kernel_size=(1, 1), stride=(1, 1), bias=False)\n",
              "          (bn): BatchNorm2d(192, eps=0.001, momentum=0.1, affine=True, track_running_stats=True)\n",
              "        )\n",
              "        (1): BasicConv2d(\n",
              "          (conv): Conv2d(192, 384, kernel_size=(3, 3), stride=(1, 1), padding=(1, 1), bias=False)\n",
              "          (bn): BatchNorm2d(384, eps=0.001, momentum=0.1, affine=True, track_running_stats=True)\n",
              "        )\n",
              "      )\n",
              "      (branch3): Sequential(\n",
              "        (0): BasicConv2d(\n",
              "          (conv): Conv2d(832, 48, kernel_size=(1, 1), stride=(1, 1), bias=False)\n",
              "          (bn): BatchNorm2d(48, eps=0.001, momentum=0.1, affine=True, track_running_stats=True)\n",
              "        )\n",
              "        (1): BasicConv2d(\n",
              "          (conv): Conv2d(48, 128, kernel_size=(3, 3), stride=(1, 1), padding=(1, 1), bias=False)\n",
              "          (bn): BatchNorm2d(128, eps=0.001, momentum=0.1, affine=True, track_running_stats=True)\n",
              "        )\n",
              "      )\n",
              "      (branch4): Sequential(\n",
              "        (0): MaxPool2d(kernel_size=3, stride=1, padding=1, dilation=1, ceil_mode=True)\n",
              "        (1): BasicConv2d(\n",
              "          (conv): Conv2d(832, 128, kernel_size=(1, 1), stride=(1, 1), bias=False)\n",
              "          (bn): BatchNorm2d(128, eps=0.001, momentum=0.1, affine=True, track_running_stats=True)\n",
              "        )\n",
              "      )\n",
              "    )\n",
              "    (aux1): InceptionAux(\n",
              "      (conv): BasicConv2d(\n",
              "        (conv): Conv2d(512, 128, kernel_size=(1, 1), stride=(1, 1), bias=False)\n",
              "        (bn): BatchNorm2d(128, eps=0.001, momentum=0.1, affine=True, track_running_stats=True)\n",
              "      )\n",
              "      (fc1): Linear(in_features=2048, out_features=1024, bias=True)\n",
              "      (fc2): Linear(in_features=1024, out_features=1000, bias=True)\n",
              "    )\n",
              "    (aux2): InceptionAux(\n",
              "      (conv): BasicConv2d(\n",
              "        (conv): Conv2d(528, 128, kernel_size=(1, 1), stride=(1, 1), bias=False)\n",
              "        (bn): BatchNorm2d(128, eps=0.001, momentum=0.1, affine=True, track_running_stats=True)\n",
              "      )\n",
              "      (fc1): Linear(in_features=2048, out_features=1024, bias=True)\n",
              "      (fc2): Linear(in_features=1024, out_features=1000, bias=True)\n",
              "    )\n",
              "    (avgpool): AdaptiveAvgPool2d(output_size=(1, 1))\n",
              "    (dropout): Dropout(p=0.4, inplace=False)\n",
              "    (fc): Linear(in_features=1024, out_features=1000, bias=True)\n",
              "  )\n",
              "  (embed): Linear(in_features=4805, out_features=1024, bias=True)\n",
              "  (fc): Linear(in_features=2048, out_features=1000, bias=True)\n",
              ")"
            ]
          },
          "metadata": {},
          "execution_count": 7
        }
      ]
    },
    {
      "cell_type": "code",
      "metadata": {
        "colab": {
          "base_uri": "https://localhost:8080/"
        },
        "id": "MiFCiV63wFae",
        "outputId": "c006b3e6-a073-4de4-ec98-140e207a0b45"
      },
      "source": [
        "va_img_names = np.load('./data/va_img_names.npy', encoding='latin1').tolist()\n",
        "va_img_ids = np.load('./data/va_img_ids.npy', encoding='latin1').tolist()\n",
        "va_ques_ids = np.load('./data/va_ques_ids.npy', encoding='latin1').tolist()\n",
        "\n",
        "test_image_dir = './Images/val2015'\n",
        "test_question_path = './Questions/OpenEnded_abstract_v002_val2015_questions.json'\n",
        "test_annotation_path = './Annotations/abstract_v002_val2015_annotations.json'\n",
        "\n",
        "batch_size = 1\n",
        "num_data_loader_workers = 10\n",
        "\n",
        "val_dataset = VqaDataset(image_dir=test_image_dir, collate=True,\n",
        "                         question_json_file_path=test_question_path,\n",
        "                         annotation_json_file_path=test_annotation_path,\n",
        "                         image_filename_pattern=\"abstract_v002_val2015_{}.png\",\n",
        "                         q2i=q2i, a2i=a2i, i2a=i2a, a2i_count=a2i_count,\n",
        "                         img_names=va_img_names, img_ids=va_img_ids,\n",
        "                         ques_ids=va_ques_ids, method=\"simple\",\n",
        "                         dataset_type=\"validation\")\n",
        "\n",
        "val_dataset_loader = DataLoader(val_dataset, batch_size=batch_size, shuffle=False, num_workers=num_data_loader_workers)\n"
      ],
      "execution_count": 9,
      "outputs": [
        {
          "output_type": "stream",
          "name": "stdout",
          "text": [
            "simple\n",
            "Img_prefix:  abstract_v002_val2015_\n",
            "loading VQA annotations and questions into memory...\n",
            "0:00:00.559388\n",
            "creating index...\n",
            "index created!\n"
          ]
        },
        {
          "output_type": "stream",
          "name": "stderr",
          "text": [
            "/usr/local/lib/python3.7/dist-packages/torch/utils/data/dataloader.py:481: UserWarning: This DataLoader will create 10 worker processes in total. Our suggested max number of worker in current system is 2, which is smaller than what this DataLoader is going to create. Please be aware that excessive worker creation might get DataLoader running slow or even freeze, lower the worker number to avoid potential slowness/freeze if necessary.\n",
            "  cpuset_checked))\n"
          ]
        }
      ]
    },
    {
      "cell_type": "code",
      "metadata": {
        "colab": {
          "base_uri": "https://localhost:8080/"
        },
        "id": "ni2G6A9O4-bZ",
        "outputId": "28622a28-86b3-424c-a589-ccfe3d00b514"
      },
      "source": [
        "wrong_ids = []\n",
        "wrong_ans = []\n",
        "act_ans = []\n",
        "ques_types = {}\n",
        "accuracy = 0\n",
        "DEVICE = 'cuda'\n",
        "model.cuda()\n",
        "for idx, (imgT, quesT, gT) in enumerate(val_dataset_loader):\n",
        "    model.eval()\n",
        "    imgT, quesT, gT = imgT.to(DEVICE), quesT.to(DEVICE), gT.to(DEVICE)\n",
        "    gT = torch.squeeze(gT)\n",
        "    pd_ans = model(imgT, quesT) # TODO\n",
        "    model_answer = torch.argmax(pd_ans).item()\n",
        "    if model_answer == gT:\n",
        "       accuracy += 1.0\n",
        "    else:\n",
        "       wrong_ids.append(idx)\n",
        "       wrong_ans.append(model_answer)\n",
        "       act_ans.append(int(gT))\n",
        "       img, ques, qa = val_dataset.getIdx(idx)\n",
        "       if qa['question_type'] in ques_types.keys():\n",
        "          ques_types[qa['question_type']] += 1\n",
        "       else:\n",
        "          ques_types[qa['question_type']] = 1\n",
        "                    \n",
        "                    \n",
        "                  \n",
        "accuracy = accuracy / 30000.0"
      ],
      "execution_count": 10,
      "outputs": [
        {
          "output_type": "stream",
          "name": "stderr",
          "text": [
            "/usr/local/lib/python3.7/dist-packages/torch/utils/data/dataloader.py:481: UserWarning: This DataLoader will create 10 worker processes in total. Our suggested max number of worker in current system is 2, which is smaller than what this DataLoader is going to create. Please be aware that excessive worker creation might get DataLoader running slow or even freeze, lower the worker number to avoid potential slowness/freeze if necessary.\n",
            "  cpuset_checked))\n",
            "/usr/local/lib/python3.7/dist-packages/torch/nn/functional.py:718: UserWarning: Named tensors and all their associated APIs are an experimental feature and subject to change. Please do not use them for anything important until they are released as stable. (Triggered internally at  /pytorch/c10/core/TensorImpl.h:1156.)\n",
            "  return torch.max_pool2d(input, kernel_size, stride, padding, dilation, ceil_mode)\n"
          ]
        }
      ]
    },
    {
      "cell_type": "code",
      "metadata": {
        "colab": {
          "base_uri": "https://localhost:8080/",
          "height": 492
        },
        "id": "Fbl6RYBkjqf8",
        "outputId": "85e407de-ca5c-4f33-8bc6-a9a780b9e6c7"
      },
      "source": [
        "from PIL import Image\n",
        "from numpy import random\n",
        "\n",
        "rand_idx = np.random.choice(wrong_ids, 20)\n",
        "count = 0\n",
        "\n",
        "for idx in range(len(wrong_ids)):\n",
        "    img, ques, answers = val_dataset.getIdx(wrong_ids[10785])\n",
        "    print(f\"Question {idx}:\",ques)\n",
        "    print(\"Model answer: \",i2a[wrong_ans[10785]])\n",
        "    print(\"Actual answer: \",i2a[act_ans[10785]])\n",
        "    #display(img)\n",
        "    print('Possible answers:', [ans['answer'] for ans in answers['answers']])\n"
      ],
      "execution_count": 37,
      "outputs": [
        {
          "output_type": "stream",
          "name": "stdout",
          "text": [
            "Question 73: What is the in the sky\n",
            "Model answer:  sun\n",
            "Actual answer:  bird\n"
          ]
        },
        {
          "output_type": "display_data",
          "data": {
            "image/png": "[encoded data removed]",
            "text/plain": [
              "<PIL.Image.Image image mode=RGB size=700x400 at 0x7F1CC053E190>"
            ]
          },
          "metadata": {}
        },
        {
          "output_type": "stream",
          "name": "stdout",
          "text": [
            "Possible answers: ['bird', 'sun and bird', 'sun and bird', 'sun', 'owl', 'sun', 'sun and owl', 'bird', 'bird', 'sunbird']\n"
          ]
        }
      ]
    },
    {
      "cell_type": "code",
      "metadata": {
        "colab": {
          "base_uri": "https://localhost:8080/"
        },
        "id": "-g2mWEon0RJW",
        "outputId": "4da51e50-9a5b-49a3-88d2-22b694b22b0a"
      },
      "source": [
        "sorted(ques_types.items(), key=operator.itemgetter(1), reverse=True)"
      ],
      "execution_count": 44,
      "outputs": [
        {
          "output_type": "execute_result",
          "data": {
            "text/plain": [
              "[('how many', 1438),\n",
              " ('where is the', 865),\n",
              " ('what', 739),\n",
              " ('what is', 709),\n",
              " ('what color is the', 625),\n",
              " ('what is the', 512),\n",
              " ('is the', 443),\n",
              " ('what is on the', 401),\n",
              " ('who is', 287),\n",
              " ('none of the above', 262),\n",
              " ('are the', 235),\n",
              " ('what is in the', 235),\n",
              " ('what is the man', 217),\n",
              " ('what is the woman', 208),\n",
              " ('what is the boy', 204),\n",
              " ('what are the', 201),\n",
              " ('what kind of', 177),\n",
              " ('what is the girl', 173),\n",
              " ('which', 163),\n",
              " ('does the', 159),\n",
              " ('how many people are', 154),\n",
              " ('is there a', 153),\n",
              " ('is the woman', 142),\n",
              " ('how', 133),\n",
              " ('what is the dog', 129),\n",
              " ('why is the', 128),\n",
              " ('what type of', 127),\n",
              " ('what color are the', 110),\n",
              " ('where are the', 105),\n",
              " ('is the man', 101),\n",
              " ('is the dog', 101),\n",
              " ('what are they', 99),\n",
              " ('why', 98),\n",
              " ('what animal is', 95),\n",
              " ('what is the lady', 95),\n",
              " ('is the boy', 93),\n",
              " ('is there', 90),\n",
              " ('is it', 88),\n",
              " ('what is the cat', 87),\n",
              " ('is the girl', 87),\n",
              " ('are there', 87),\n",
              " ('how many trees are', 82),\n",
              " ('what is the little', 82),\n",
              " ('is this', 80),\n",
              " ('how many clouds are', 77),\n",
              " ('what color', 74),\n",
              " ('who', 74),\n",
              " ('do the', 71),\n",
              " ('are', 71),\n",
              " ('is the cat', 68),\n",
              " ('are they', 58),\n",
              " ('can', 57),\n",
              " ('how many birds are', 56),\n",
              " ('what color is', 55),\n",
              " ('will the', 53),\n",
              " ('are there any', 52),\n",
              " ('how many windows are', 51),\n",
              " ('how many bushes', 51),\n",
              " ('how many animals are', 50),\n",
              " ('do', 50),\n",
              " ('is she', 47),\n",
              " ('how many pictures', 47),\n",
              " ('is that', 44),\n",
              " ('does', 43),\n",
              " ('is', 39),\n",
              " ('is the sun', 39),\n",
              " ('how many plants are', 39),\n",
              " ('is the baby', 37),\n",
              " ('what is the baby', 34),\n",
              " ('are the people', 33),\n",
              " ('is the lady', 32),\n",
              " ('is the tv', 31),\n",
              " ('are these', 28),\n",
              " ('how many pillows', 27),\n",
              " ('is he', 27),\n",
              " ('did the', 26),\n",
              " ('is this a', 22),\n",
              " ('is the little girl', 19),\n",
              " ('is anyone', 15),\n",
              " ('is the young', 13),\n",
              " ('is the old man', 10)]"
            ]
          },
          "metadata": {},
          "execution_count": 44
        }
      ]
    },
    {
      "cell_type": "code",
      "metadata": {
        "id": "OvrpK0vJolN-"
      },
      "source": [
        "import json\n",
        "\n",
        "with open('abstract_v002_val2015_annotations.json') as f:\n",
        "  ann = json.load(f)\n",
        "overall_types = {}\n",
        "for a in ann['annotations']:\n",
        "  if a['question_type'] in overall_types.keys():\n",
        "    overall_types[a['question_type']] += 1\n",
        "  else:\n",
        "    overall_types[a['question_type']] = 1\n",
        "\n"
      ],
      "execution_count": 7,
      "outputs": []
    },
    {
      "cell_type": "code",
      "metadata": {
        "colab": {
          "base_uri": "https://localhost:8080/"
        },
        "id": "yz1CbCAzrnFj",
        "outputId": "2c7b7a6f-0c88-4abc-8066-d3b97897b81a"
      },
      "source": [
        "overall_types"
      ],
      "execution_count": 8,
      "outputs": [
        {
          "output_type": "execute_result",
          "data": {
            "text/plain": [
              "{'are': 207,\n",
              " 'are the': 893,\n",
              " 'are the people': 134,\n",
              " 'are there': 293,\n",
              " 'are there any': 194,\n",
              " 'are these': 116,\n",
              " 'are they': 414,\n",
              " 'can': 140,\n",
              " 'did the': 149,\n",
              " 'do': 182,\n",
              " 'do the': 231,\n",
              " 'does': 198,\n",
              " 'does the': 689,\n",
              " 'how': 222,\n",
              " 'how many': 2933,\n",
              " 'how many animals are': 97,\n",
              " 'how many birds are': 89,\n",
              " 'how many bushes': 88,\n",
              " 'how many clouds are': 128,\n",
              " 'how many people are': 274,\n",
              " 'how many pictures': 103,\n",
              " 'how many pillows': 120,\n",
              " 'how many plants are': 85,\n",
              " 'how many trees are': 135,\n",
              " 'how many windows are': 121,\n",
              " 'is': 182,\n",
              " 'is anyone': 95,\n",
              " 'is he': 134,\n",
              " 'is it': 448,\n",
              " 'is she': 207,\n",
              " 'is that': 128,\n",
              " 'is the': 1798,\n",
              " 'is the baby': 198,\n",
              " 'is the boy': 464,\n",
              " 'is the cat': 237,\n",
              " 'is the dog': 406,\n",
              " 'is the girl': 437,\n",
              " 'is the lady': 202,\n",
              " 'is the little girl': 136,\n",
              " 'is the man': 563,\n",
              " 'is the old man': 70,\n",
              " 'is the sun': 150,\n",
              " 'is the tv': 101,\n",
              " 'is the woman': 665,\n",
              " 'is the young': 120,\n",
              " 'is there': 370,\n",
              " 'is there a': 729,\n",
              " 'is this': 297,\n",
              " 'is this a': 111,\n",
              " 'none of the above': 693,\n",
              " 'what': 1227,\n",
              " 'what animal is': 170,\n",
              " 'what are the': 298,\n",
              " 'what are they': 156,\n",
              " 'what color': 153,\n",
              " 'what color are the': 365,\n",
              " 'what color is': 82,\n",
              " 'what color is the': 2100,\n",
              " 'what is': 1105,\n",
              " 'what is in the': 355,\n",
              " 'what is on the': 584,\n",
              " 'what is the': 918,\n",
              " 'what is the baby': 68,\n",
              " 'what is the boy': 281,\n",
              " 'what is the cat': 136,\n",
              " 'what is the dog': 188,\n",
              " 'what is the girl': 274,\n",
              " 'what is the lady': 136,\n",
              " 'what is the little': 113,\n",
              " 'what is the man': 346,\n",
              " 'what is the woman': 305,\n",
              " 'what kind of': 374,\n",
              " 'what type of': 243,\n",
              " 'where are the': 154,\n",
              " 'where is the': 1334,\n",
              " 'which': 256,\n",
              " 'who': 115,\n",
              " 'who is': 387,\n",
              " 'why': 150,\n",
              " 'why is the': 226,\n",
              " 'will the': 225}"
            ]
          },
          "metadata": {},
          "execution_count": 8
        }
      ]
    },
    {
      "cell_type": "code",
      "metadata": {
        "colab": {
          "base_uri": "https://localhost:8080/"
        },
        "id": "2ZRP9oE4rvYY",
        "outputId": "5c8a997a-b5e1-47a1-e309-5a3229a2c081"
      },
      "source": [
        "percents = {}\n",
        "for ques, num in ques_types:\n",
        "  percents[ques] = round(num / overall_types[ques], 2)\n",
        "len(sorted(percents.items(), key=operator.itemgetter(1), reverse=True))"
      ],
      "execution_count": 17,
      "outputs": [
        {
          "output_type": "execute_result",
          "data": {
            "text/plain": [
              "81"
            ]
          },
          "metadata": {},
          "execution_count": 17
        }
      ]
    },
    {
      "cell_type": "code",
      "metadata": {
        "colab": {
          "base_uri": "https://localhost:8080/",
          "height": 279
        },
        "id": "25_V9SbTvbzD",
        "outputId": "b8dbe9c8-f867-4c73-e337-a710ef8c4046"
      },
      "source": [
        "import matplotlib.pyplot as plt\n",
        "y = []\n",
        "for i in sorted(percents.items(), key=operator.itemgetter(1), reverse=True):\n",
        "  y.append(i[1])\n",
        "\n",
        "plt.bar(range(0,81), y)\n",
        "plt.xlabel('questions')\n",
        "plt.ylabel('error rate')\n",
        "plt.show()"
      ],
      "execution_count": 22,
      "outputs": [
        {
          "output_type": "display_data",
          "data": {
            "image/png": "[encoded data removed]",
            "text/plain": [
              "<Figure size 432x288 with 1 Axes>"
            ]
          },
          "metadata": {
            "needs_background": "light"
          }
        }
      ]
    }
  ]
}